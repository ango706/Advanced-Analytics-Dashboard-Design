{
 "cells": [
  {
   "cell_type": "markdown",
   "id": "ea1da564",
   "metadata": {},
   "source": [
    "# Exercise 6.4: Supervised Machine Learning: Regression"
   ]
  },
  {
   "cell_type": "markdown",
   "id": "b31f42c4",
   "metadata": {},
   "source": [
    "# Import Libraries"
   ]
  },
  {
   "cell_type": "code",
   "execution_count": 1,
   "id": "2658f2e5",
   "metadata": {},
   "outputs": [],
   "source": [
    "# Import necessary libraries\n",
    "import pandas as pd\n",
    "import numpy as np\n",
    "import matplotlib.pyplot as plt\n",
    "from sklearn.model_selection import train_test_split\n",
    "from sklearn.linear_model import LinearRegression\n",
    "from sklearn.metrics import mean_squared_error, r2_score\n",
    "import numbers "
   ]
  },
  {
   "cell_type": "markdown",
   "id": "9190a38b",
   "metadata": {},
   "source": [
    "# Data cleaning"
   ]
  },
  {
   "cell_type": "code",
   "execution_count": 2,
   "id": "9420e4f3",
   "metadata": {},
   "outputs": [
    {
     "data": {
      "text/html": [
       "<div>\n",
       "<style scoped>\n",
       "    .dataframe tbody tr th:only-of-type {\n",
       "        vertical-align: middle;\n",
       "    }\n",
       "\n",
       "    .dataframe tbody tr th {\n",
       "        vertical-align: top;\n",
       "    }\n",
       "\n",
       "    .dataframe thead th {\n",
       "        text-align: right;\n",
       "    }\n",
       "</style>\n",
       "<table border=\"1\" class=\"dataframe\">\n",
       "  <thead>\n",
       "    <tr style=\"text-align: right;\">\n",
       "      <th></th>\n",
       "      <th>incident_id</th>\n",
       "      <th>date</th>\n",
       "      <th>state</th>\n",
       "      <th>city_or_county</th>\n",
       "      <th>address</th>\n",
       "      <th>n_killed</th>\n",
       "      <th>n_injured</th>\n",
       "      <th>incident_url</th>\n",
       "      <th>source_url</th>\n",
       "      <th>incident_url_fields_missing</th>\n",
       "      <th>...</th>\n",
       "      <th>participant_age</th>\n",
       "      <th>participant_age_group</th>\n",
       "      <th>participant_gender</th>\n",
       "      <th>participant_name</th>\n",
       "      <th>participant_relationship</th>\n",
       "      <th>participant_status</th>\n",
       "      <th>participant_type</th>\n",
       "      <th>sources</th>\n",
       "      <th>state_house_district</th>\n",
       "      <th>state_senate_district</th>\n",
       "    </tr>\n",
       "  </thead>\n",
       "  <tbody>\n",
       "    <tr>\n",
       "      <th>0</th>\n",
       "      <td>461105</td>\n",
       "      <td>2013-01-01</td>\n",
       "      <td>Pennsylvania</td>\n",
       "      <td>Mckeesport</td>\n",
       "      <td>1506 Versailles Avenue and Coursin Street</td>\n",
       "      <td>0</td>\n",
       "      <td>4</td>\n",
       "      <td>http://www.gunviolencearchive.org/incident/461105</td>\n",
       "      <td>http://www.post-gazette.com/local/south/2013/0...</td>\n",
       "      <td>False</td>\n",
       "      <td>...</td>\n",
       "      <td>0::20</td>\n",
       "      <td>0::Adult 18+||1::Adult 18+||2::Adult 18+||3::A...</td>\n",
       "      <td>0::Male||1::Male||3::Male||4::Female</td>\n",
       "      <td>0::Julian Sims</td>\n",
       "      <td>NaN</td>\n",
       "      <td>0::Arrested||1::Injured||2::Injured||3::Injure...</td>\n",
       "      <td>0::Victim||1::Victim||2::Victim||3::Victim||4:...</td>\n",
       "      <td>http://pittsburgh.cbslocal.com/2013/01/01/4-pe...</td>\n",
       "      <td>NaN</td>\n",
       "      <td>NaN</td>\n",
       "    </tr>\n",
       "    <tr>\n",
       "      <th>1</th>\n",
       "      <td>460726</td>\n",
       "      <td>2013-01-01</td>\n",
       "      <td>California</td>\n",
       "      <td>Hawthorne</td>\n",
       "      <td>13500 block of Cerise Avenue</td>\n",
       "      <td>1</td>\n",
       "      <td>3</td>\n",
       "      <td>http://www.gunviolencearchive.org/incident/460726</td>\n",
       "      <td>http://www.dailybulletin.com/article/zz/201301...</td>\n",
       "      <td>False</td>\n",
       "      <td>...</td>\n",
       "      <td>0::20</td>\n",
       "      <td>0::Adult 18+||1::Adult 18+||2::Adult 18+||3::A...</td>\n",
       "      <td>0::Male</td>\n",
       "      <td>0::Bernard Gillis</td>\n",
       "      <td>NaN</td>\n",
       "      <td>0::Killed||1::Injured||2::Injured||3::Injured</td>\n",
       "      <td>0::Victim||1::Victim||2::Victim||3::Victim||4:...</td>\n",
       "      <td>http://losangeles.cbslocal.com/2013/01/01/man-...</td>\n",
       "      <td>62.0</td>\n",
       "      <td>35.0</td>\n",
       "    </tr>\n",
       "    <tr>\n",
       "      <th>2</th>\n",
       "      <td>478855</td>\n",
       "      <td>2013-01-01</td>\n",
       "      <td>Ohio</td>\n",
       "      <td>Lorain</td>\n",
       "      <td>1776 East 28th Street</td>\n",
       "      <td>1</td>\n",
       "      <td>3</td>\n",
       "      <td>http://www.gunviolencearchive.org/incident/478855</td>\n",
       "      <td>http://chronicle.northcoastnow.com/2013/02/14/...</td>\n",
       "      <td>False</td>\n",
       "      <td>...</td>\n",
       "      <td>0::25||1::31||2::33||3::34||4::33</td>\n",
       "      <td>0::Adult 18+||1::Adult 18+||2::Adult 18+||3::A...</td>\n",
       "      <td>0::Male||1::Male||2::Male||3::Male||4::Male</td>\n",
       "      <td>0::Damien Bell||1::Desmen Noble||2::Herman Sea...</td>\n",
       "      <td>NaN</td>\n",
       "      <td>0::Injured, Unharmed, Arrested||1::Unharmed, A...</td>\n",
       "      <td>0::Subject-Suspect||1::Subject-Suspect||2::Vic...</td>\n",
       "      <td>http://www.morningjournal.com/general-news/201...</td>\n",
       "      <td>56.0</td>\n",
       "      <td>13.0</td>\n",
       "    </tr>\n",
       "    <tr>\n",
       "      <th>3</th>\n",
       "      <td>478925</td>\n",
       "      <td>2013-01-05</td>\n",
       "      <td>Colorado</td>\n",
       "      <td>Aurora</td>\n",
       "      <td>16000 block of East Ithaca Place</td>\n",
       "      <td>4</td>\n",
       "      <td>0</td>\n",
       "      <td>http://www.gunviolencearchive.org/incident/478925</td>\n",
       "      <td>http://www.dailydemocrat.com/20130106/aurora-s...</td>\n",
       "      <td>False</td>\n",
       "      <td>...</td>\n",
       "      <td>0::29||1::33||2::56||3::33</td>\n",
       "      <td>0::Adult 18+||1::Adult 18+||2::Adult 18+||3::A...</td>\n",
       "      <td>0::Female||1::Male||2::Male||3::Male</td>\n",
       "      <td>0::Stacie Philbrook||1::Christopher Ratliffe||...</td>\n",
       "      <td>NaN</td>\n",
       "      <td>0::Killed||1::Killed||2::Killed||3::Killed</td>\n",
       "      <td>0::Victim||1::Victim||2::Victim||3::Subject-Su...</td>\n",
       "      <td>http://denver.cbslocal.com/2013/01/06/officer-...</td>\n",
       "      <td>40.0</td>\n",
       "      <td>28.0</td>\n",
       "    </tr>\n",
       "  </tbody>\n",
       "</table>\n",
       "<p>4 rows × 29 columns</p>\n",
       "</div>"
      ],
      "text/plain": [
       "   incident_id        date         state city_or_county  \\\n",
       "0       461105  2013-01-01  Pennsylvania     Mckeesport   \n",
       "1       460726  2013-01-01    California      Hawthorne   \n",
       "2       478855  2013-01-01          Ohio         Lorain   \n",
       "3       478925  2013-01-05      Colorado         Aurora   \n",
       "\n",
       "                                     address  n_killed  n_injured  \\\n",
       "0  1506 Versailles Avenue and Coursin Street         0          4   \n",
       "1               13500 block of Cerise Avenue         1          3   \n",
       "2                      1776 East 28th Street         1          3   \n",
       "3           16000 block of East Ithaca Place         4          0   \n",
       "\n",
       "                                        incident_url  \\\n",
       "0  http://www.gunviolencearchive.org/incident/461105   \n",
       "1  http://www.gunviolencearchive.org/incident/460726   \n",
       "2  http://www.gunviolencearchive.org/incident/478855   \n",
       "3  http://www.gunviolencearchive.org/incident/478925   \n",
       "\n",
       "                                          source_url  \\\n",
       "0  http://www.post-gazette.com/local/south/2013/0...   \n",
       "1  http://www.dailybulletin.com/article/zz/201301...   \n",
       "2  http://chronicle.northcoastnow.com/2013/02/14/...   \n",
       "3  http://www.dailydemocrat.com/20130106/aurora-s...   \n",
       "\n",
       "   incident_url_fields_missing  ...                    participant_age  \\\n",
       "0                        False  ...                              0::20   \n",
       "1                        False  ...                              0::20   \n",
       "2                        False  ...  0::25||1::31||2::33||3::34||4::33   \n",
       "3                        False  ...         0::29||1::33||2::56||3::33   \n",
       "\n",
       "                               participant_age_group  \\\n",
       "0  0::Adult 18+||1::Adult 18+||2::Adult 18+||3::A...   \n",
       "1  0::Adult 18+||1::Adult 18+||2::Adult 18+||3::A...   \n",
       "2  0::Adult 18+||1::Adult 18+||2::Adult 18+||3::A...   \n",
       "3  0::Adult 18+||1::Adult 18+||2::Adult 18+||3::A...   \n",
       "\n",
       "                            participant_gender  \\\n",
       "0         0::Male||1::Male||3::Male||4::Female   \n",
       "1                                      0::Male   \n",
       "2  0::Male||1::Male||2::Male||3::Male||4::Male   \n",
       "3         0::Female||1::Male||2::Male||3::Male   \n",
       "\n",
       "                                    participant_name  \\\n",
       "0                                     0::Julian Sims   \n",
       "1                                  0::Bernard Gillis   \n",
       "2  0::Damien Bell||1::Desmen Noble||2::Herman Sea...   \n",
       "3  0::Stacie Philbrook||1::Christopher Ratliffe||...   \n",
       "\n",
       "   participant_relationship  \\\n",
       "0                       NaN   \n",
       "1                       NaN   \n",
       "2                       NaN   \n",
       "3                       NaN   \n",
       "\n",
       "                                  participant_status  \\\n",
       "0  0::Arrested||1::Injured||2::Injured||3::Injure...   \n",
       "1      0::Killed||1::Injured||2::Injured||3::Injured   \n",
       "2  0::Injured, Unharmed, Arrested||1::Unharmed, A...   \n",
       "3         0::Killed||1::Killed||2::Killed||3::Killed   \n",
       "\n",
       "                                    participant_type  \\\n",
       "0  0::Victim||1::Victim||2::Victim||3::Victim||4:...   \n",
       "1  0::Victim||1::Victim||2::Victim||3::Victim||4:...   \n",
       "2  0::Subject-Suspect||1::Subject-Suspect||2::Vic...   \n",
       "3  0::Victim||1::Victim||2::Victim||3::Subject-Su...   \n",
       "\n",
       "                                             sources state_house_district  \\\n",
       "0  http://pittsburgh.cbslocal.com/2013/01/01/4-pe...                  NaN   \n",
       "1  http://losangeles.cbslocal.com/2013/01/01/man-...                 62.0   \n",
       "2  http://www.morningjournal.com/general-news/201...                 56.0   \n",
       "3  http://denver.cbslocal.com/2013/01/06/officer-...                 40.0   \n",
       "\n",
       "  state_senate_district  \n",
       "0                   NaN  \n",
       "1                  35.0  \n",
       "2                  13.0  \n",
       "3                  28.0  \n",
       "\n",
       "[4 rows x 29 columns]"
      ]
     },
     "execution_count": 2,
     "metadata": {},
     "output_type": "execute_result"
    }
   ],
   "source": [
    "# Load the dataset\n",
    "gun_violence_df = pd.read_csv('gun-violence-data_01-2013_03-2018.csv') \n",
    "gun_violence_df.head(4)"
   ]
  },
  {
   "cell_type": "markdown",
   "id": "e2442630",
   "metadata": {},
   "source": [
    "## Statistical Overview of the Data"
   ]
  },
  {
   "cell_type": "code",
   "execution_count": 3,
   "id": "3381e56c",
   "metadata": {},
   "outputs": [
    {
     "data": {
      "text/html": [
       "<div>\n",
       "<style scoped>\n",
       "    .dataframe tbody tr th:only-of-type {\n",
       "        vertical-align: middle;\n",
       "    }\n",
       "\n",
       "    .dataframe tbody tr th {\n",
       "        vertical-align: top;\n",
       "    }\n",
       "\n",
       "    .dataframe thead th {\n",
       "        text-align: right;\n",
       "    }\n",
       "</style>\n",
       "<table border=\"1\" class=\"dataframe\">\n",
       "  <thead>\n",
       "    <tr style=\"text-align: right;\">\n",
       "      <th></th>\n",
       "      <th>incident_id</th>\n",
       "      <th>n_killed</th>\n",
       "      <th>n_injured</th>\n",
       "      <th>congressional_district</th>\n",
       "      <th>latitude</th>\n",
       "      <th>longitude</th>\n",
       "      <th>n_guns_involved</th>\n",
       "      <th>state_house_district</th>\n",
       "      <th>state_senate_district</th>\n",
       "    </tr>\n",
       "  </thead>\n",
       "  <tbody>\n",
       "    <tr>\n",
       "      <th>count</th>\n",
       "      <td>2.396770e+05</td>\n",
       "      <td>239677.000000</td>\n",
       "      <td>239677.000000</td>\n",
       "      <td>227733.000000</td>\n",
       "      <td>231754.000000</td>\n",
       "      <td>231754.000000</td>\n",
       "      <td>140226.000000</td>\n",
       "      <td>200905.000000</td>\n",
       "      <td>207342.00000</td>\n",
       "    </tr>\n",
       "    <tr>\n",
       "      <th>mean</th>\n",
       "      <td>5.593343e+05</td>\n",
       "      <td>0.252290</td>\n",
       "      <td>0.494007</td>\n",
       "      <td>8.001265</td>\n",
       "      <td>37.546598</td>\n",
       "      <td>-89.338348</td>\n",
       "      <td>1.372442</td>\n",
       "      <td>55.447132</td>\n",
       "      <td>20.47711</td>\n",
       "    </tr>\n",
       "    <tr>\n",
       "      <th>std</th>\n",
       "      <td>2.931287e+05</td>\n",
       "      <td>0.521779</td>\n",
       "      <td>0.729952</td>\n",
       "      <td>8.480835</td>\n",
       "      <td>5.130763</td>\n",
       "      <td>14.359546</td>\n",
       "      <td>4.678202</td>\n",
       "      <td>42.048117</td>\n",
       "      <td>14.20456</td>\n",
       "    </tr>\n",
       "    <tr>\n",
       "      <th>min</th>\n",
       "      <td>9.211400e+04</td>\n",
       "      <td>0.000000</td>\n",
       "      <td>0.000000</td>\n",
       "      <td>0.000000</td>\n",
       "      <td>19.111400</td>\n",
       "      <td>-171.429000</td>\n",
       "      <td>1.000000</td>\n",
       "      <td>1.000000</td>\n",
       "      <td>1.00000</td>\n",
       "    </tr>\n",
       "    <tr>\n",
       "      <th>25%</th>\n",
       "      <td>3.085450e+05</td>\n",
       "      <td>0.000000</td>\n",
       "      <td>0.000000</td>\n",
       "      <td>2.000000</td>\n",
       "      <td>33.903400</td>\n",
       "      <td>-94.158725</td>\n",
       "      <td>1.000000</td>\n",
       "      <td>21.000000</td>\n",
       "      <td>9.00000</td>\n",
       "    </tr>\n",
       "    <tr>\n",
       "      <th>50%</th>\n",
       "      <td>5.435870e+05</td>\n",
       "      <td>0.000000</td>\n",
       "      <td>0.000000</td>\n",
       "      <td>5.000000</td>\n",
       "      <td>38.570600</td>\n",
       "      <td>-86.249600</td>\n",
       "      <td>1.000000</td>\n",
       "      <td>47.000000</td>\n",
       "      <td>19.00000</td>\n",
       "    </tr>\n",
       "    <tr>\n",
       "      <th>75%</th>\n",
       "      <td>8.172280e+05</td>\n",
       "      <td>0.000000</td>\n",
       "      <td>1.000000</td>\n",
       "      <td>10.000000</td>\n",
       "      <td>41.437375</td>\n",
       "      <td>-80.048625</td>\n",
       "      <td>1.000000</td>\n",
       "      <td>84.000000</td>\n",
       "      <td>30.00000</td>\n",
       "    </tr>\n",
       "    <tr>\n",
       "      <th>max</th>\n",
       "      <td>1.083472e+06</td>\n",
       "      <td>50.000000</td>\n",
       "      <td>53.000000</td>\n",
       "      <td>53.000000</td>\n",
       "      <td>71.336800</td>\n",
       "      <td>97.433100</td>\n",
       "      <td>400.000000</td>\n",
       "      <td>901.000000</td>\n",
       "      <td>94.00000</td>\n",
       "    </tr>\n",
       "  </tbody>\n",
       "</table>\n",
       "</div>"
      ],
      "text/plain": [
       "        incident_id       n_killed      n_injured  congressional_district  \\\n",
       "count  2.396770e+05  239677.000000  239677.000000           227733.000000   \n",
       "mean   5.593343e+05       0.252290       0.494007                8.001265   \n",
       "std    2.931287e+05       0.521779       0.729952                8.480835   \n",
       "min    9.211400e+04       0.000000       0.000000                0.000000   \n",
       "25%    3.085450e+05       0.000000       0.000000                2.000000   \n",
       "50%    5.435870e+05       0.000000       0.000000                5.000000   \n",
       "75%    8.172280e+05       0.000000       1.000000               10.000000   \n",
       "max    1.083472e+06      50.000000      53.000000               53.000000   \n",
       "\n",
       "            latitude      longitude  n_guns_involved  state_house_district  \\\n",
       "count  231754.000000  231754.000000    140226.000000         200905.000000   \n",
       "mean       37.546598     -89.338348         1.372442             55.447132   \n",
       "std         5.130763      14.359546         4.678202             42.048117   \n",
       "min        19.111400    -171.429000         1.000000              1.000000   \n",
       "25%        33.903400     -94.158725         1.000000             21.000000   \n",
       "50%        38.570600     -86.249600         1.000000             47.000000   \n",
       "75%        41.437375     -80.048625         1.000000             84.000000   \n",
       "max        71.336800      97.433100       400.000000            901.000000   \n",
       "\n",
       "       state_senate_district  \n",
       "count           207342.00000  \n",
       "mean                20.47711  \n",
       "std                 14.20456  \n",
       "min                  1.00000  \n",
       "25%                  9.00000  \n",
       "50%                 19.00000  \n",
       "75%                 30.00000  \n",
       "max                 94.00000  "
      ]
     },
     "execution_count": 3,
     "metadata": {},
     "output_type": "execute_result"
    }
   ],
   "source": [
    "gun_violence_df.describe() ##describes only numeric data"
   ]
  },
  {
   "cell_type": "markdown",
   "id": "2c33606a",
   "metadata": {},
   "source": [
    "## Check for Missing Data"
   ]
  },
  {
   "cell_type": "code",
   "execution_count": 4,
   "id": "6e2186fa",
   "metadata": {},
   "outputs": [],
   "source": [
    "# Function to describe more information for all the attributes\n",
    "def brief(data):\n",
    "    \n",
    "    df = data.copy()\n",
    "    \n",
    "    print(\"This dataset has {} Rows {} Attributes\".format(df.shape[0],df.shape[1]), end='')\n",
    "    print('\\n')\n",
    "    \n",
    "    real_valued = {}\n",
    "    symbolics = {}\n",
    "    \n",
    "    \n",
    "    for i,col in enumerate(df.columns, 1):\n",
    "        Missing = len(df[col]) - df[col].count()\n",
    "        \n",
    "        counter = 0\n",
    "        for val in df[col].dropna():\n",
    "            if isinstance(val, numbers.Number):\n",
    "                    counter += 1\n",
    "        \n",
    "        if counter != len(df[col].dropna()):\n",
    "            arity = len(df[col].dropna().unique())\n",
    "            symbolics[i] = [i, col, Missing, arity]  \n",
    "        else:\n",
    "            Mean, Median, Sdev, Min, Max = df[col].mean(), df[col].median(), df[col].std(), df[col].min(), df[col].max()\n",
    "            real_valued[i] =  [i, col, Missing, Mean, Median, Sdev, Min, Max]\n",
    "            \n",
    "    \n",
    "    #Create array containing list of real valued\n",
    "    real_valued_array = [real_valued[keys] for keys in real_valued.keys()]\n",
    "    real_valued_transformed = np.array(real_valued_array).T\n",
    "    \n",
    "    symbolic_array = [symbolics[keys] for keys in symbolics.keys()]\n",
    "    symbolic_transformed = np.array(symbolic_array).T\n",
    "    \n",
    "    # return symbolic_transformed\n",
    "    real_cols = ['Attribute_ID', 'Attribute_Name', 'Missing', 'Mean', 'Median', 'Sdev', 'Min', 'Max']\n",
    "    sym_cols = ['Attribute_ID', 'Attribute_Name', 'Missing','arity']\n",
    "    \n",
    "    \n",
    "   \n",
    "    index = range(1, len(real_valued.keys())+1)\n",
    "    real_val_df = pd.DataFrame(data={unit[0]:unit[1] for unit in zip(real_cols, real_valued_transformed)}, index = index, columns=real_cols)\n",
    "    \n",
    "\n",
    "    index_sym = range(1, len(symbolics.keys())+1)\n",
    "    sym_val_df = pd.DataFrame(data={unit[0]:unit[1] for unit in zip(sym_cols, symbolic_transformed)}, index = index_sym, columns = sym_cols)\n",
    "    \n",
    "    text = (\"real valued attributes\" + \"\\n\" + \"---------------------\" \n",
    "            + \"\\n\" + str(real_val_df) + \"\\n\"  + \"non-real valued attributes\"  \n",
    "            + \"\\n\" + \"-------------------\" + \"\\n\" + str(sym_val_df))\n",
    "        \n",
    "    return text\n"
   ]
  },
  {
   "cell_type": "code",
   "execution_count": 5,
   "id": "39966320",
   "metadata": {},
   "outputs": [
    {
     "name": "stdout",
     "output_type": "stream",
     "text": [
      "CPU times: total: 0 ns\n",
      "Wall time: 0 ns\n",
      "This dataset has 239677 Rows 29 Attributes\n",
      "\n",
      "real valued attributes\n",
      "---------------------\n",
      "   Attribute_ID               Attribute_Name Missing                 Mean  \\\n",
      "1             1                  incident_id       0    559334.3464037017   \n",
      "2             6                     n_killed       0  0.25228953967214207   \n",
      "3             7                    n_injured       0   0.4940065171042695   \n",
      "4            10  incident_url_fields_missing       0                  0.0   \n",
      "5            11       congressional_district   11944    8.001264638853394   \n",
      "6            15                     latitude    7923    37.54659822311588   \n",
      "7            17                    longitude    7923   -89.33834822915676   \n",
      "8            18              n_guns_involved   99451   1.3724416299402393   \n",
      "9            28         state_house_district   38772    55.44713172892661   \n",
      "10           29        state_senate_district   32335   20.477110281563792   \n",
      "\n",
      "      Median                Sdev       Min      Max  \n",
      "1   543587.0    293128.684285221     92114  1083472  \n",
      "2        0.0    0.52177887298012         0       50  \n",
      "3        0.0  0.7299522740842754         0       53  \n",
      "4        0.0                 0.0     False    False  \n",
      "5        5.0   8.480834796700318       0.0     53.0  \n",
      "6    38.5706   5.130763162136701   19.1114  71.3368  \n",
      "7   -86.2496   14.35954557699743  -171.429  97.4331  \n",
      "8        1.0   4.678202195031997       1.0    400.0  \n",
      "9       47.0   42.04811689079994       1.0    901.0  \n",
      "10      19.0   14.20455963079257       1.0     94.0  \n",
      "non-real valued attributes\n",
      "-------------------\n",
      "   Attribute_ID            Attribute_Name Missing   arity\n",
      "1             2                      date       0    1725\n",
      "2             3                     state       0      51\n",
      "3             4            city_or_county       0   12898\n",
      "4             5                   address   16497  198037\n",
      "5             8              incident_url       0  239677\n",
      "6             9                source_url     468  213989\n",
      "7            12                gun_stolen   99498     349\n",
      "8            13                  gun_type   99451    2502\n",
      "9            14  incident_characteristics     326   18126\n",
      "10           16      location_description  197588   27595\n",
      "11           19                     notes   81017  136652\n",
      "12           20           participant_age   92298   18951\n",
      "13           21     participant_age_group   42119     898\n",
      "14           22        participant_gender   36362     873\n",
      "15           23          participant_name  122253  113488\n",
      "16           24  participant_relationship  223903     284\n",
      "17           25        participant_status   27626    2150\n",
      "18           26          participant_type   24863     259\n",
      "19           27                   sources     609  217280\n"
     ]
    }
   ],
   "source": [
    "%time\n",
    "print(brief(gun_violence_df))"
   ]
  },
  {
   "cell_type": "markdown",
   "id": "4ca781c1",
   "metadata": {},
   "source": [
    "Based on the analysis presented above, you can deduce that certain properties, such as participant_name and participant_relationship, are missing almost as many values as the total number of records contained in the dataset."
   ]
  },
  {
   "cell_type": "code",
   "execution_count": 6,
   "id": "6821bbb6",
   "metadata": {},
   "outputs": [
    {
     "name": "stdout",
     "output_type": "stream",
     "text": [
      "<class 'pandas.core.frame.DataFrame'>\n",
      "RangeIndex: 239677 entries, 0 to 239676\n",
      "Data columns (total 29 columns):\n",
      " #   Column                       Non-Null Count   Dtype  \n",
      "---  ------                       --------------   -----  \n",
      " 0   incident_id                  239677 non-null  int64  \n",
      " 1   date                         239677 non-null  object \n",
      " 2   state                        239677 non-null  object \n",
      " 3   city_or_county               239677 non-null  object \n",
      " 4   address                      223180 non-null  object \n",
      " 5   n_killed                     239677 non-null  int64  \n",
      " 6   n_injured                    239677 non-null  int64  \n",
      " 7   incident_url                 239677 non-null  object \n",
      " 8   source_url                   239209 non-null  object \n",
      " 9   incident_url_fields_missing  239677 non-null  bool   \n",
      " 10  congressional_district       227733 non-null  float64\n",
      " 11  gun_stolen                   140179 non-null  object \n",
      " 12  gun_type                     140226 non-null  object \n",
      " 13  incident_characteristics     239351 non-null  object \n",
      " 14  latitude                     231754 non-null  float64\n",
      " 15  location_description         42089 non-null   object \n",
      " 16  longitude                    231754 non-null  float64\n",
      " 17  n_guns_involved              140226 non-null  float64\n",
      " 18  notes                        158660 non-null  object \n",
      " 19  participant_age              147379 non-null  object \n",
      " 20  participant_age_group        197558 non-null  object \n",
      " 21  participant_gender           203315 non-null  object \n",
      " 22  participant_name             117424 non-null  object \n",
      " 23  participant_relationship     15774 non-null   object \n",
      " 24  participant_status           212051 non-null  object \n",
      " 25  participant_type             214814 non-null  object \n",
      " 26  sources                      239068 non-null  object \n",
      " 27  state_house_district         200905 non-null  float64\n",
      " 28  state_senate_district        207342 non-null  float64\n",
      "dtypes: bool(1), float64(6), int64(3), object(19)\n",
      "memory usage: 51.4+ MB\n"
     ]
    }
   ],
   "source": [
    "gun_violence_df.info()"
   ]
  },
  {
   "cell_type": "markdown",
   "id": "7d718f34",
   "metadata": {},
   "source": [
    "## Cleaning Data"
   ]
  },
  {
   "cell_type": "code",
   "execution_count": 7,
   "id": "c372bc34",
   "metadata": {},
   "outputs": [
    {
     "name": "stdout",
     "output_type": "stream",
     "text": [
      "(239678, 29)\n",
      "(239678, 26)\n",
      "Dropped Columns: ['location_description', 'participant_name', 'participant_relationship']\n"
     ]
    }
   ],
   "source": [
    "# added important missing data point found in the description on Kaggle\n",
    "missing =  ['sban_1', '2017-10-01', 'Nevada', 'Las Vegas', 'Mandalay Bay 3950 Blvd S', 59, 489, 'https://en.wikipedia.org/wiki/2017_Las_Vegas_shooting', 'https://en.wikipedia.org/wiki/2017_Las_Vegas_shooting', '-', '-', '-', '-', '-', '36.095', 'Hotel', \n",
    "            '-115.171667', 47, 'Route 91 Harvest Festiva; concert, open fire from 32nd floor. 47 guns seized; TOTAL:59 kill, 489 inj, number shot TBD,girlfriend Marilou Danley POI', '-', '-', '-', '-', '-', '-', '-', '-', '-', '-']\n",
    "gun_violence_df.loc[len(gun_violence_df)] = missing\n",
    "\n",
    "print(gun_violence_df.shape)\n",
    "drop_columns = gun_violence_df.columns[gun_violence_df.apply(lambda col: col.isnull().sum() >= (0.5 * len(gun_violence_df)))]\n",
    "gun_violence_filtered = gun_violence_df.drop(drop_columns, axis=1)\n",
    "print(gun_violence_filtered.shape)\n",
    "print('Dropped Columns:', list(drop_columns))"
   ]
  },
  {
   "cell_type": "markdown",
   "id": "02202ff7",
   "metadata": {},
   "source": [
    "# State your hypothesis."
   ]
  },
  {
   "cell_type": "markdown",
   "id": "abde1bf4",
   "metadata": {},
   "source": [
    "The number of people injured as a result of gun violence is significantly higher than the number of people who have lost their lives to such violence"
   ]
  },
  {
   "cell_type": "markdown",
   "id": "10b799ad",
   "metadata": {},
   "source": [
    "# Select the relevant variables"
   ]
  },
  {
   "cell_type": "code",
   "execution_count": 8,
   "id": "8230924e",
   "metadata": {},
   "outputs": [],
   "source": [
    "# Select the relevant variables\n",
    "predictor_column = 'n_injured'  # Select the column you want to use as the predictor\n",
    "target_column = 'n_killed'      # Select the column you want to predict"
   ]
  },
  {
   "cell_type": "markdown",
   "id": "43bb0513",
   "metadata": {},
   "source": [
    "# Prepare your data for a regression analysis"
   ]
  },
  {
   "cell_type": "code",
   "execution_count": 9,
   "id": "2553192a",
   "metadata": {},
   "outputs": [],
   "source": [
    "# Prepare your data for regression analysis\n",
    "X = gun_violence_filtered[[predictor_column]].values\n",
    "y = gun_violence_filtered[target_column].values"
   ]
  },
  {
   "cell_type": "markdown",
   "id": "27c7a333",
   "metadata": {},
   "source": [
    "# Split the data into two sets: a training set and a test set"
   ]
  },
  {
   "cell_type": "code",
   "execution_count": 10,
   "id": "8e40d666",
   "metadata": {},
   "outputs": [],
   "source": [
    "# Split the data into training and test sets\n",
    "X_train, X_test, y_train, y_test = train_test_split(X, y, test_size=0.2, random_state=42)"
   ]
  },
  {
   "cell_type": "markdown",
   "id": "806b4a72",
   "metadata": {},
   "source": [
    "X and y are the arrays representing the independent variable(s) and the dependent variable, respectively. In this case, X contains the values of the predictor column, and y contains the values of the target column.\n",
    "\n",
    "train_test_split is a function from the sklearn.model_selection module that splits the data into training and test sets.\n",
    "\n",
    "The test_size parameter specifies the proportion of the data that should be allocated to the test set. In this case, it's set to 0.2, meaning that 20% of the data will be used for testing, and 80% will be used for training.\n",
    "\n",
    "The random_state parameter is used to control the random shuffling of the data before splitting. Setting a specific value (e.g., random_state=42) ensures that the random splitting is reproducible, which is useful for consistent results across different runs.\n",
    "\n",
    "X_train and y_train represent the features and target values in the training set, respectively.\n",
    "\n",
    "X_test and y_test represent the features and target values in the test set, respectively.\n",
    "\n",
    "Once the data is split, the model is trained on the training set using the X_train and y_train data. Then, the model's performance is evaluated on the test set using the X_test data. This helps us understand how well the model generalizes to unseen data and avoids overfitting (performing well on training data but poorly on new data)."
   ]
  },
  {
   "cell_type": "markdown",
   "id": "6aa86c56",
   "metadata": {},
   "source": [
    "# a linear regression model"
   ]
  },
  {
   "cell_type": "code",
   "execution_count": 11,
   "id": "f4c4d8ca",
   "metadata": {},
   "outputs": [
    {
     "data": {
      "text/html": [
       "<style>#sk-container-id-1 {color: black;}#sk-container-id-1 pre{padding: 0;}#sk-container-id-1 div.sk-toggleable {background-color: white;}#sk-container-id-1 label.sk-toggleable__label {cursor: pointer;display: block;width: 100%;margin-bottom: 0;padding: 0.3em;box-sizing: border-box;text-align: center;}#sk-container-id-1 label.sk-toggleable__label-arrow:before {content: \"▸\";float: left;margin-right: 0.25em;color: #696969;}#sk-container-id-1 label.sk-toggleable__label-arrow:hover:before {color: black;}#sk-container-id-1 div.sk-estimator:hover label.sk-toggleable__label-arrow:before {color: black;}#sk-container-id-1 div.sk-toggleable__content {max-height: 0;max-width: 0;overflow: hidden;text-align: left;background-color: #f0f8ff;}#sk-container-id-1 div.sk-toggleable__content pre {margin: 0.2em;color: black;border-radius: 0.25em;background-color: #f0f8ff;}#sk-container-id-1 input.sk-toggleable__control:checked~div.sk-toggleable__content {max-height: 200px;max-width: 100%;overflow: auto;}#sk-container-id-1 input.sk-toggleable__control:checked~label.sk-toggleable__label-arrow:before {content: \"▾\";}#sk-container-id-1 div.sk-estimator input.sk-toggleable__control:checked~label.sk-toggleable__label {background-color: #d4ebff;}#sk-container-id-1 div.sk-label input.sk-toggleable__control:checked~label.sk-toggleable__label {background-color: #d4ebff;}#sk-container-id-1 input.sk-hidden--visually {border: 0;clip: rect(1px 1px 1px 1px);clip: rect(1px, 1px, 1px, 1px);height: 1px;margin: -1px;overflow: hidden;padding: 0;position: absolute;width: 1px;}#sk-container-id-1 div.sk-estimator {font-family: monospace;background-color: #f0f8ff;border: 1px dotted black;border-radius: 0.25em;box-sizing: border-box;margin-bottom: 0.5em;}#sk-container-id-1 div.sk-estimator:hover {background-color: #d4ebff;}#sk-container-id-1 div.sk-parallel-item::after {content: \"\";width: 100%;border-bottom: 1px solid gray;flex-grow: 1;}#sk-container-id-1 div.sk-label:hover label.sk-toggleable__label {background-color: #d4ebff;}#sk-container-id-1 div.sk-serial::before {content: \"\";position: absolute;border-left: 1px solid gray;box-sizing: border-box;top: 0;bottom: 0;left: 50%;z-index: 0;}#sk-container-id-1 div.sk-serial {display: flex;flex-direction: column;align-items: center;background-color: white;padding-right: 0.2em;padding-left: 0.2em;position: relative;}#sk-container-id-1 div.sk-item {position: relative;z-index: 1;}#sk-container-id-1 div.sk-parallel {display: flex;align-items: stretch;justify-content: center;background-color: white;position: relative;}#sk-container-id-1 div.sk-item::before, #sk-container-id-1 div.sk-parallel-item::before {content: \"\";position: absolute;border-left: 1px solid gray;box-sizing: border-box;top: 0;bottom: 0;left: 50%;z-index: -1;}#sk-container-id-1 div.sk-parallel-item {display: flex;flex-direction: column;z-index: 1;position: relative;background-color: white;}#sk-container-id-1 div.sk-parallel-item:first-child::after {align-self: flex-end;width: 50%;}#sk-container-id-1 div.sk-parallel-item:last-child::after {align-self: flex-start;width: 50%;}#sk-container-id-1 div.sk-parallel-item:only-child::after {width: 0;}#sk-container-id-1 div.sk-dashed-wrapped {border: 1px dashed gray;margin: 0 0.4em 0.5em 0.4em;box-sizing: border-box;padding-bottom: 0.4em;background-color: white;}#sk-container-id-1 div.sk-label label {font-family: monospace;font-weight: bold;display: inline-block;line-height: 1.2em;}#sk-container-id-1 div.sk-label-container {text-align: center;}#sk-container-id-1 div.sk-container {/* jupyter's `normalize.less` sets `[hidden] { display: none; }` but bootstrap.min.css set `[hidden] { display: none !important; }` so we also need the `!important` here to be able to override the default hidden behavior on the sphinx rendered scikit-learn.org. See: https://github.com/scikit-learn/scikit-learn/issues/21755 */display: inline-block !important;position: relative;}#sk-container-id-1 div.sk-text-repr-fallback {display: none;}</style><div id=\"sk-container-id-1\" class=\"sk-top-container\"><div class=\"sk-text-repr-fallback\"><pre>LinearRegression()</pre><b>In a Jupyter environment, please rerun this cell to show the HTML representation or trust the notebook. <br />On GitHub, the HTML representation is unable to render, please try loading this page with nbviewer.org.</b></div><div class=\"sk-container\" hidden><div class=\"sk-item\"><div class=\"sk-estimator sk-toggleable\"><input class=\"sk-toggleable__control sk-hidden--visually\" id=\"sk-estimator-id-1\" type=\"checkbox\" checked><label for=\"sk-estimator-id-1\" class=\"sk-toggleable__label sk-toggleable__label-arrow\">LinearRegression</label><div class=\"sk-toggleable__content\"><pre>LinearRegression()</pre></div></div></div></div></div>"
      ],
      "text/plain": [
       "LinearRegression()"
      ]
     },
     "execution_count": 11,
     "metadata": {},
     "output_type": "execute_result"
    }
   ],
   "source": [
    "# Create a linear regression model and fit it to the training data\n",
    "model = LinearRegression()\n",
    "model.fit(X_train, y_train)"
   ]
  },
  {
   "cell_type": "markdown",
   "id": "3c0e9a21",
   "metadata": {},
   "source": [
    "\n",
    "# Make predictions on the test data"
   ]
  },
  {
   "cell_type": "code",
   "execution_count": 12,
   "id": "8bc8c10e",
   "metadata": {},
   "outputs": [],
   "source": [
    "# Make predictions on the test data\n",
    "y_pred = model.predict(X_test)"
   ]
  },
  {
   "cell_type": "markdown",
   "id": "3574a876",
   "metadata": {},
   "source": [
    "# A plot of the regression line on the test set"
   ]
  },
  {
   "cell_type": "code",
   "execution_count": 13,
   "id": "1da5a68a",
   "metadata": {},
   "outputs": [
    {
     "data": {
      "image/png": "[encoded data removed]",
      "text/plain": [
       "<Figure size 640x480 with 1 Axes>"
      ]
     },
     "metadata": {},
     "output_type": "display_data"
    }
   ],
   "source": [
    "# Create a plot of the regression line on the test set\n",
    "plt.scatter(X_test, y_test, color='blue', label='Actual')\n",
    "plt.plot(X_test, y_pred, color='red', linewidth=2, label='Regression Line')\n",
    "plt.xlabel(predictor_column)\n",
    "plt.ylabel(target_column)\n",
    "plt.title('Regression Line')\n",
    "plt.legend()\n",
    "plt.show()"
   ]
  },
  {
   "cell_type": "markdown",
   "id": "69d0da51",
   "metadata": {},
   "source": [
    "The scatter plot with the red regression line illustrates the relationship between the predicted values (represented by the red line) and the actual values (depicted by the blue points) in the test set. This plot allows us to visually assess how well the linear regression model fits the data.\n",
    "\n",
    "From the plot, we can observe that the red regression line runs through the center of the blue points, indicating that the model is capturing the general trend of the data. However, it's important to note that there's some variability in the data points around the regression line. This variability suggests that while the model provides a reasonable fit, it might not perfectly capture all the variations in the data.\n",
    "\n",
    "In summary, the regression line provides a reasonable approximation of the relationship between the predictor variable (n_injured) and the target variable (n_killed). The closeness of the data points to the line suggests a moderate level of fit, implying that the model is capturing the general trend but might not predict each data point with high precision. Further analysis and evaluation metrics are needed to quantify the model's performance more precisely."
   ]
  },
  {
   "cell_type": "markdown",
   "id": "68e5269b",
   "metadata": {},
   "source": [
    "# Model performance statistics"
   ]
  },
  {
   "cell_type": "code",
   "execution_count": 14,
   "id": "19f5cfd3",
   "metadata": {},
   "outputs": [
    {
     "name": "stdout",
     "output_type": "stream",
     "text": [
      "Mean Squared Error: 0.4746348774468394\n",
      "R-squared: -0.3951036385483162\n"
     ]
    }
   ],
   "source": [
    "# Check model performance statistics\n",
    "mse = mean_squared_error(y_test, y_pred)\n",
    "r2 = r2_score(y_test, y_pred)\n",
    "print('Mean Squared Error:', mse)\n",
    "print('R-squared:', r2)\n"
   ]
  },
  {
   "cell_type": "markdown",
   "id": "85a0a875",
   "metadata": {},
   "source": [
    "\n",
    "# Compare predicted vs actual values in a DataFrame"
   ]
  },
  {
   "cell_type": "code",
   "execution_count": 15,
   "id": "804a21f8",
   "metadata": {},
   "outputs": [
    {
     "name": "stdout",
     "output_type": "stream",
     "text": [
      "       Actual  Predicted\n",
      "0           0   0.294585\n",
      "1           0   0.294585\n",
      "2           0   0.294585\n",
      "3           0   0.122526\n",
      "4           1   0.294585\n",
      "...       ...        ...\n",
      "47931       0   0.294585\n",
      "47932       1   0.208556\n",
      "47933       0   0.294585\n",
      "47934       0   0.208556\n",
      "47935       0   0.294585\n",
      "\n",
      "[47936 rows x 2 columns]\n"
     ]
    }
   ],
   "source": [
    "# Compare predicted vs actual values in a DataFrame\n",
    "comparison_df = pd.DataFrame({'Actual': y_test, 'Predicted': y_pred})\n",
    "print(comparison_df)"
   ]
  },
  {
   "cell_type": "markdown",
   "id": "09de3c3a",
   "metadata": {},
   "source": [
    "# Evaluation of model performance on the test set"
   ]
  },
  {
   "cell_type": "markdown",
   "id": "fcadf576",
   "metadata": {},
   "source": [
    "## Regression Analysis Results and Interpretation\n",
    "\n",
    "### Regression Line Plot:\n",
    "The scatter plot above displays the regression line (in red) on the test set data points (in blue). This visualization allows us to visually evaluate how well the linear regression model fits the data. The red regression line represents the predictions made by the model based on the predictor variable (n_injured), and the blue points represent the actual values of the target variable (n_killed).\n",
    "\n",
    "### Interpretation of Fit:\n",
    "From the plot, we can observe that the red regression line roughly follows the trend of the blue data points, indicating that the model is capturing the overall relationship between the number of injured individuals and the number of killed individuals. However, it's evident that there is a significant amount of scatter around the regression line, suggesting that the model's predictions do not perfectly align with the actual values. This scatter implies that while the model provides a reasonable fit, there is inherent variability in the data that the model might not be capturing accurately.\n",
    "\n",
    "### Model Performance Statistics:\n",
    "The model performance is assessed using two metrics:\n",
    "- Mean Squared Error (MSE): The calculated MSE is approximately 0.475. The MSE measures the average squared difference between the predicted and actual values. A lower MSE indicates a better fit of the model. In this case, the relatively small value of MSE suggests that the model's predictions are reasonably close to the actual values, on average.\n",
    "- R-squared (R2) Score: The R-squared score is around -0.395. R2 measures how well the model explains the variability in the target variable. A value closer to 1 indicates a better fit, while a negative value suggests that the model does not capture the variability as well as a horizontal line would. In this case, the negative R2 score indicates that the model is not performing well in explaining the variability in the data.\n",
    "\n",
    "### Comparison of Predicted vs. Actual Values:\n",
    "The DataFrame presented above compares the predicted and actual values of the target variable (n_killed) in the test set. Each row represents a data point in the test set, with the \"Actual\" column showing the true number of killed individuals and the \"Predicted\" column displaying the values predicted by the model. \n",
    "\n",
    "### Model Performance Assessment and Data Bias:\n",
    "Overall, the model's performance appears to be limited, as evidenced by the scatter in the regression line plot and the negative R2 score. The model does not perfectly capture the relationship between the number of injured and killed individuals. Potential data biases and limitations in the predictor variable could be contributing to the suboptimal performance. Further exploration, feature engineering, and consideration of additional variables could enhance the model's accuracy and reliability."
   ]
  },
  {
   "cell_type": "code",
   "execution_count": null,
   "id": "f3c78985",
   "metadata": {},
   "outputs": [],
   "source": []
  }
 ],
 "metadata": {
  "kernelspec": {
   "display_name": "Python 3 (ipykernel)",
   "language": "python",
   "name": "python3"
  },
  "language_info": {
   "codemirror_mode": {
    "name": "ipython",
    "version": 3
   },
   "file_extension": ".py",
   "mimetype": "text/x-python",
   "name": "python",
   "nbconvert_exporter": "python",
   "pygments_lexer": "ipython3",
   "version": "3.10.9"
  }
 },
 "nbformat": 4,
 "nbformat_minor": 5
}
